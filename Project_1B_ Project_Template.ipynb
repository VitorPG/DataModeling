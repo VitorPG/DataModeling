{
 "cells": [
  {
   "cell_type": "markdown",
   "metadata": {
    "editable": true
   },
   "source": [
    "# Part I. ETL Pipeline for Pre-Processing the Files"
   ]
  },
  {
   "cell_type": "markdown",
   "metadata": {
    "editable": true
   },
   "source": [
    "## PLEASE RUN THE FOLLOWING CODE FOR PRE-PROCESSING THE FILES"
   ]
  },
  {
   "cell_type": "markdown",
   "metadata": {
    "editable": true
   },
   "source": [
    "#### Import Python packages "
   ]
  },
  {
   "cell_type": "code",
   "execution_count": 27,
   "metadata": {
    "editable": true
   },
   "outputs": [],
   "source": [
    "import pandas as pd\n",
    "import cassandra\n",
    "import re\n",
    "import os\n",
    "import glob\n",
    "import numpy as np\n",
    "import json\n",
    "import csv"
   ]
  },
  {
   "cell_type": "markdown",
   "metadata": {
    "editable": true
   },
   "source": [
    "#### Creating list of filepaths to process original event csv data files"
   ]
  },
  {
   "cell_type": "code",
   "execution_count": 28,
   "metadata": {
    "editable": true
   },
   "outputs": [
    {
     "name": "stdout",
     "output_type": "stream",
     "text": [
      "/home/workspace\n"
     ]
    }
   ],
   "source": [
    "# checking your current working directory\n",
    "print(os.getcwd())\n",
    "\n",
    "# Get your current folder and subfolder event data\n",
    "filepath = os.getcwd() + '/event_data'\n",
    "\n",
    "# Create a for loop to create a list of files and collect each filepath\n",
    "for root, dirs, files in os.walk(filepath):\n",
    "    \n",
    "# join the file path and roots with the subdirectories using glob\n",
    "    file_path_list = glob.glob(os.path.join(root,'*'))\n",
    "    #print(file_path_list)"
   ]
  },
  {
   "cell_type": "markdown",
   "metadata": {
    "editable": true
   },
   "source": [
    "#### Processing the files to create the data file csv that will be used for Apache Casssandra tables"
   ]
  },
  {
   "cell_type": "code",
   "execution_count": 29,
   "metadata": {
    "editable": true
   },
   "outputs": [],
   "source": [
    "# initiating an empty list of rows that will be generated from each file\n",
    "full_data_rows_list = [] \n",
    "    \n",
    "# for every filepath in the file path list \n",
    "for f in file_path_list:\n",
    "\n",
    "# reading csv file \n",
    "    with open(f, 'r', encoding = 'utf8', newline='') as csvfile: \n",
    "        # creating a csv reader object \n",
    "        csvreader = csv.reader(csvfile) \n",
    "        next(csvreader)\n",
    "        \n",
    " # extracting each data row one by one and append it        \n",
    "        for line in csvreader:\n",
    "            #print(line)\n",
    "            full_data_rows_list.append(line) \n",
    "            \n",
    "# uncomment the code below if you would like to get total number of rows \n",
    "#print(len(full_data_rows_list))\n",
    "# uncomment the code below if you would like to check to see what the list of event data rows will look like\n",
    "#print(full_data_rows_list)\n",
    "\n",
    "# creating a smaller event data csv file called event_datafile_full csv that will be used to insert data into the \\\n",
    "# Apache Cassandra tables\n",
    "csv.register_dialect('myDialect', quoting=csv.QUOTE_ALL, skipinitialspace=True)\n",
    "\n",
    "with open('event_datafile_new.csv', 'w', encoding = 'utf8', newline='') as f:\n",
    "    writer = csv.writer(f, dialect='myDialect')\n",
    "    writer.writerow(['artist','firstName','gender','itemInSession','lastName','length',\\\n",
    "                'level','location','sessionId','song','userId'])\n",
    "    for row in full_data_rows_list:\n",
    "        if (row[0] == ''):\n",
    "            continue\n",
    "        writer.writerow((row[0], row[2], row[3], row[4], row[5], row[6], row[7], row[8], row[12], row[13], row[16]))\n"
   ]
  },
  {
   "cell_type": "code",
   "execution_count": 30,
   "metadata": {
    "editable": true
   },
   "outputs": [
    {
     "name": "stdout",
     "output_type": "stream",
     "text": [
      "6821\n"
     ]
    }
   ],
   "source": [
    "# check the number of rows in your csv file\n",
    "with open('event_datafile_new.csv', 'r', encoding = 'utf8') as f:\n",
    "    print(sum(1 for line in f))"
   ]
  },
  {
   "cell_type": "markdown",
   "metadata": {
    "editable": true
   },
   "source": [
    "# Part II. Complete the Apache Cassandra coding portion of your project. \n",
    "\n",
    "## Now you are ready to work with the CSV file titled <font color=red>event_datafile_new.csv</font>, located within the Workspace directory.  The event_datafile_new.csv contains the following columns: \n",
    "- artist \n",
    "- firstName of user\n",
    "- gender of user\n",
    "- item number in session\n",
    "- last name of user\n",
    "- length of the song\n",
    "- level (paid or free song)\n",
    "- location of the user\n",
    "- sessionId\n",
    "- song title\n",
    "- userId\n",
    "\n",
    "The image below is a screenshot of what the denormalized data should appear like in the <font color=red>**event_datafile_new.csv**</font> after the code above is run:<br>\n",
    "\n",
    "<img src=\"images/image_event_datafile_new.jpg\">"
   ]
  },
  {
   "cell_type": "markdown",
   "metadata": {
    "editable": true
   },
   "source": [
    "## Begin writing your Apache Cassandra code in the cells below"
   ]
  },
  {
   "cell_type": "markdown",
   "metadata": {
    "editable": true
   },
   "source": [
    "#### Creating a Cluster"
   ]
  },
  {
   "cell_type": "code",
   "execution_count": 31,
   "metadata": {
    "editable": true
   },
   "outputs": [],
   "source": [
    "# This should make a connection to a Cassandra instance your local machine \n",
    "# (127.0.0.1)\n",
    "\n",
    "from cassandra.cluster import Cluster\n",
    "try:\n",
    "    cluster = Cluster(['127.0.0.1'])\n",
    "    # To establish connection and begin executing queries, need a session\n",
    "    session = cluster.connect()\n",
    "except Exception as e:\n",
    "    print(e)"
   ]
  },
  {
   "cell_type": "markdown",
   "metadata": {
    "editable": true
   },
   "source": [
    "#### Create Keyspace"
   ]
  },
  {
   "cell_type": "code",
   "execution_count": 32,
   "metadata": {
    "editable": true
   },
   "outputs": [],
   "source": [
    "try: \n",
    "    session.execute(\"\"\" \n",
    "        CREATE KEYSPACE IF NOT EXISTS sparkfy\n",
    "        WITH REPLICATION = \n",
    "        { 'class' : 'SimpleStrategy', 'replication_factor' : 1 }\n",
    "    \"\"\")\n",
    "except Exception as e:\n",
    "    print(e)\n",
    "    "
   ]
  },
  {
   "cell_type": "markdown",
   "metadata": {
    "editable": true
   },
   "source": [
    "#### Set Keyspace"
   ]
  },
  {
   "cell_type": "code",
   "execution_count": 33,
   "metadata": {
    "editable": true
   },
   "outputs": [],
   "source": [
    "try:\n",
    "    session.set_keyspace('sparkfy')\n",
    "except Exception as e:\n",
    "    print(e)"
   ]
  },
  {
   "cell_type": "markdown",
   "metadata": {
    "editable": true
   },
   "source": [
    "## First Query"
   ]
  },
  {
   "cell_type": "markdown",
   "metadata": {
    "editable": true
   },
   "source": [
    "### The first request from the database was to access the app history and retrive the artist, song title and duration given a session ID and the order of the song in that session. \n",
    "\n",
    "#### - session_id=338 and item_in_session = 4\n",
    "\n",
    "#### For this query, the chosen PRIMARY KEYS are session_id and item_in_session, since in every session the user can only listen to one song at a time.  "
   ]
  },
  {
   "cell_type": "code",
   "execution_count": 34,
   "metadata": {
    "editable": true
   },
   "outputs": [],
   "source": [
    "create_table_app_history = \"CREATE TABLE IF NOT EXISTS app_history\"\n",
    "create_table_app_history = create_table_app_history + \\\n",
    "        \"(\\\n",
    "            session_id int, \\\n",
    "            item_in_session int, \\\n",
    "            artist_name text, \\\n",
    "            song_title text, \\\n",
    "            song_length float, \\\n",
    "            PRIMARY KEY(session_id, item_in_session) \\\n",
    "          )\"\n",
    "\n",
    "try: \n",
    "    session.execute(create_table_app_history)\n",
    "except Exception as e:\n",
    "    print(e)\n",
    "                    "
   ]
  },
  {
   "cell_type": "code",
   "execution_count": 35,
   "metadata": {
    "editable": true
   },
   "outputs": [],
   "source": [
    "file = 'event_datafile_new.csv'\n",
    "\n",
    "with open(file, encoding = 'utf8') as f:\n",
    "    csvreader = csv.reader(f)\n",
    "    next(csvreader) \n",
    "    for line in csvreader:\n",
    "        insert_app_history = \"INSERT INTO app_history \\\n",
    "            (\\\n",
    "            session_id,\\\n",
    "            item_in_session, \\\n",
    "            artist_name, \\\n",
    "            song_title, \\\n",
    "            song_length \\\n",
    "            )\"\n",
    "        insert_app_history = insert_app_history + \"VALUES (%s,%s,%s,%s,%s)\"\n",
    "        session.execute(insert_app_history, \\\n",
    "                            ( \\\n",
    "                             int(line[8]), \\\n",
    "                             int(line[3]), \\\n",
    "                             line[0], \\\n",
    "                             line[9],\\\n",
    "                             float(line[5])\\\n",
    "                            ) \\\n",
    "                       )"
   ]
  },
  {
   "cell_type": "code",
   "execution_count": 36,
   "metadata": {
    "editable": true,
    "scrolled": true
   },
   "outputs": [
    {
     "name": "stdout",
     "output_type": "stream",
     "text": [
      "Faithless , Music Matters (Mark Knight Dub) , 495.30731201171875\n"
     ]
    }
   ],
   "source": [
    "query = \"SELECT artist_name, song_title, song_length FROM app_history WHERE session_id=338 AND item_in_session=4\"\n",
    "\n",
    "try:\n",
    "    rows = session.execute(query)\n",
    "    \n",
    "except Exception as e:\n",
    "    print(e)\n",
    "\n",
    "for row in rows:\n",
    "    print (row.artist_name, \",\", row.song_title,\",\", row.song_length) "
   ]
  },
  {
   "cell_type": "markdown",
   "metadata": {
    "editable": true
   },
   "source": [
    "## Second Query"
   ]
  },
  {
   "cell_type": "markdown",
   "metadata": {
    "editable": true
   },
   "source": [
    "### The second request for the database was to try and verify the user song prefence by using as input the session id and user id. The songs (output) were listed based on the order they were played. \n",
    "\n",
    "#### session_id=182 and user_id=10\n",
    "#### For this query, the PRIMARY KEY (session_id and user_id) were chosen, in this order, to decrease the number of instances that appeared during the first search. The item_in_session is a partition key that helps ordering the results. "
   ]
  },
  {
   "cell_type": "code",
   "execution_count": 37,
   "metadata": {
    "editable": true
   },
   "outputs": [],
   "source": [
    "create_table_user_preference = \"CREATE TABLE IF NOT EXISTS user_preference\"\n",
    "create_table_user_preference = create_table_user_preference + \\\n",
    "    \"(\\\n",
    "     user_id int, \\\n",
    "     session_id int, \\\n",
    "     item_in_session int, \\\n",
    "     artist_name text, \\\n",
    "     song_title text,  \\\n",
    "     user_name text, \\\n",
    "     PRIMARY KEY((user_id,session_id),item_in_session) \\\n",
    "     )\"\n",
    "\n",
    "try: \n",
    "    session.execute(create_table_user_preference)\n",
    "except Exception as e:\n",
    "    print(e)\n",
    "                    "
   ]
  },
  {
   "cell_type": "code",
   "execution_count": 38,
   "metadata": {
    "editable": true
   },
   "outputs": [],
   "source": [
    "file = 'event_datafile_new.csv'\n",
    "\n",
    "with open(file, encoding = 'utf8') as f:\n",
    "    csvreader = csv.reader(f)\n",
    "    next(csvreader) \n",
    "    for line in csvreader:\n",
    "        insert_user_preference= \"INSERT INTO user_preference \\\n",
    "            (\\\n",
    "            user_id, \\\n",
    "            session_id, \\\n",
    "            item_in_session, \\\n",
    "            artist_name, \\\n",
    "            song_title, \\\n",
    "            user_name \\\n",
    "            )\"\n",
    "        insert_user_preference = insert_user_preference + 'VALUES (%s,%s,%s,%s,%s,%s)'\n",
    "        userName = line[1] + \" \" + line[4]\n",
    "        session.execute(insert_user_preference, \\\n",
    "                        (\\\n",
    "                         int(line[10]),\\\n",
    "                         int(line[8]), \\\n",
    "                         int(line[3]), \\\n",
    "                         line[0],\\\n",
    "                         line[9], \\\n",
    "                         userName\\\n",
    "                        ) \\\n",
    "                       )"
   ]
  },
  {
   "cell_type": "code",
   "execution_count": 39,
   "metadata": {
    "editable": true
   },
   "outputs": [
    {
     "name": "stdout",
     "output_type": "stream",
     "text": [
      "Down To The Bone , Keep On Keepin' On , Sylvie Cruz\n",
      "Three Drives , Greece 2000 , Sylvie Cruz\n",
      "Sebastien Tellier , Kilometer , Sylvie Cruz\n",
      "Lonnie Gordon , Catch You Baby (Steve Pitron & Max Sanna Radio Edit) , Sylvie Cruz\n"
     ]
    }
   ],
   "source": [
    "query1 = \"SELECT artist_name, song_title, user_name FROM user_preference WHERE user_id=10 AND session_id=182 \"\n",
    "\n",
    "try:\n",
    "    rows = session.execute(query1)\n",
    "    \n",
    "except Exception as e:\n",
    "    print(e)\n",
    "\n",
    "for row in rows:\n",
    "    print (row.artist_name, \",\",row.song_title, \",\",row.user_name) "
   ]
  },
  {
   "cell_type": "markdown",
   "metadata": {
    "editable": true
   },
   "source": [
    "## Third Query"
   ]
  },
  {
   "cell_type": "markdown",
   "metadata": {
    "editable": true
   },
   "source": [
    "### The third request was to collect all users who heard a specific song.\n",
    "#### song_title = 'All Hands Against His Own'\n",
    "#### For this query, the necessary PRIMARY KEY is the song title as partition key and user_id as the clustering key, since if only the song title was selected the query would display only one user."
   ]
  },
  {
   "cell_type": "code",
   "execution_count": 40,
   "metadata": {
    "editable": true
   },
   "outputs": [],
   "source": [
    "create_table_song_history = \"CREATE TABLE IF NOT EXISTS song_history\"\n",
    "create_table_song_history = create_table_song_history + \\\n",
    "        \"(\\\n",
    "        song_title text,\\\n",
    "        user_id int, \\\n",
    "        first_name text, \\\n",
    "        last_name text, \\\n",
    "        PRIMARY KEY (song_title,user_id)\\\n",
    "        )\"\n",
    "\n",
    "try: \n",
    "    session.execute(create_table_song_history)\n",
    "except Exception as e:\n",
    "    print(e)\n"
   ]
  },
  {
   "cell_type": "code",
   "execution_count": 41,
   "metadata": {
    "editable": true
   },
   "outputs": [],
   "source": [
    "file = 'event_datafile_new.csv'\n",
    "\n",
    "with open(file, encoding = 'utf8') as f:\n",
    "    csvreader = csv.reader(f)\n",
    "    next(csvreader) \n",
    "    for line in csvreader:\n",
    "        insert_song_history = \"INSERT INTO song_history (song_title, user_id, first_name, last_name)\"\n",
    "        insert_song_history = insert_song_history + \"VALUES (%s,%s,%s,%s)\"\n",
    "        session.execute(insert_song_history,(line[9],int(line[10]),line[1],line[4]))\n"
   ]
  },
  {
   "cell_type": "code",
   "execution_count": 42,
   "metadata": {
    "editable": true
   },
   "outputs": [
    {
     "name": "stdout",
     "output_type": "stream",
     "text": [
      "Jacqueline Lynch\n",
      "Tegan Levine\n",
      "Sara Johnson\n"
     ]
    }
   ],
   "source": [
    "query2= \"SELECT first_name, last_name FROM song_history WHERE song_title='All Hands Against His Own'\"\n",
    "\n",
    "try:\n",
    "    rows = session.execute(query2)\n",
    "    \n",
    "except Exception as e:\n",
    "    print(e)\n",
    "\n",
    "for row in rows:\n",
    "    print (row.first_name, row.last_name) "
   ]
  },
  {
   "cell_type": "markdown",
   "metadata": {
    "editable": true
   },
   "source": [
    "### Drop the tables before closing out the sessions"
   ]
  },
  {
   "cell_type": "code",
   "execution_count": 25,
   "metadata": {
    "editable": true
   },
   "outputs": [
    {
     "data": {
      "text/plain": [
       "<cassandra.cluster.ResultSet at 0x7f36c8cff7b8>"
      ]
     },
     "execution_count": 25,
     "metadata": {},
     "output_type": "execute_result"
    }
   ],
   "source": [
    "session.execute('DROP TABLE IF EXISTS app_history')\n",
    "session.execute('DROP TABLE IF EXISTS user_preference')\n",
    "session.execute('DROP TABLE IF EXISTS song_history')\n"
   ]
  },
  {
   "cell_type": "markdown",
   "metadata": {
    "editable": true
   },
   "source": [
    "### Close the session and cluster connection¶"
   ]
  },
  {
   "cell_type": "code",
   "execution_count": 26,
   "metadata": {
    "editable": true
   },
   "outputs": [],
   "source": [
    "session.shutdown()\n",
    "cluster.shutdown()"
   ]
  },
  {
   "cell_type": "code",
   "execution_count": null,
   "metadata": {
    "editable": true
   },
   "outputs": [],
   "source": []
  }
 ],
 "metadata": {
  "kernelspec": {
   "display_name": "Python 3",
   "language": "python",
   "name": "python3"
  },
  "language_info": {
   "codemirror_mode": {
    "name": "ipython",
    "version": 3
   },
   "file_extension": ".py",
   "mimetype": "text/x-python",
   "name": "python",
   "nbconvert_exporter": "python",
   "pygments_lexer": "ipython3",
   "version": "3.6.3"
  }
 },
 "nbformat": 4,
 "nbformat_minor": 4
}
